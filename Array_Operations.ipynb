{
  "nbformat": 4,
  "nbformat_minor": 0,
  "metadata": {
    "colab": {
      "provenance": []
    },
    "kernelspec": {
      "name": "python3",
      "display_name": "Python 3"
    },
    "language_info": {
      "name": "python"
    }
  },
  "cells": [
    {
      "cell_type": "code",
      "execution_count": 2,
      "metadata": {
        "colab": {
          "base_uri": "https://localhost:8080/"
        },
        "id": "bvHI3MS8YX2q",
        "outputId": "aed584cc-3637-4ab6-8a96-7fe55edbff09"
      },
      "outputs": [
        {
          "output_type": "stream",
          "name": "stdout",
          "text": [
            "10\n",
            "40\n"
          ]
        }
      ],
      "source": [
        "import array as arr\n",
        "x=arr.array('i',[10,20,30,40,50])\n",
        "print(x[0]) #accessing the elements\n",
        "print(x[3])\n"
      ]
    },
    {
      "cell_type": "code",
      "source": [
        "import numpy as np\n",
        "x=np.array([10,20,30,40,50])\n",
        "print(x[0])\n",
        "print(x[2])"
      ],
      "metadata": {
        "colab": {
          "base_uri": "https://localhost:8080/"
        },
        "id": "YTxKnZNJZNXn",
        "outputId": "85dfa96f-43bf-472a-97a7-379fce07aa91"
      },
      "execution_count": 4,
      "outputs": [
        {
          "output_type": "stream",
          "name": "stdout",
          "text": [
            "10\n",
            "30\n"
          ]
        }
      ]
    },
    {
      "cell_type": "code",
      "source": [
        "import array as arr\n",
        "x=arr.array('i',[10,20,30,40,50])\n",
        "x\n"
      ],
      "metadata": {
        "id": "73yxS8diZg3i"
      },
      "execution_count": null,
      "outputs": []
    },
    {
      "cell_type": "code",
      "source": [],
      "metadata": {
        "id": "BGBuDmd1a5VB"
      },
      "execution_count": null,
      "outputs": []
    },
    {
      "cell_type": "code",
      "source": [
        "import array as arr\n",
        "x=arr.array('i',[10,20,30,40,50])\n",
        "x.remove(40)  #remove operation\n",
        "print(x)\n",
        "print(x.index(50))  #searching operation\n",
        "\n",
        "#update operation\n",
        "x[0]=100\n",
        "print(x)"
      ],
      "metadata": {
        "colab": {
          "base_uri": "https://localhost:8080/"
        },
        "id": "kmadTbT3a5Xd",
        "outputId": "8274c9f9-fa6e-42c2-8f46-6af1d301ebcf"
      },
      "execution_count": 9,
      "outputs": [
        {
          "output_type": "stream",
          "name": "stdout",
          "text": [
            "array('i', [10, 20, 30, 50])\n",
            "3\n",
            "array('i', [100, 20, 30, 50])\n"
          ]
        }
      ]
    },
    {
      "cell_type": "code",
      "source": [
        "#find the largest and smallest element in an array\n",
        "import numpy as np\n",
        "x =np.array([10,20,30,40,50])\n",
        "def min_max(x):\n",
        "  min_e=np.min(x)\n",
        "  max_e=np.max(x)\n",
        "  return min_e,max_e\n",
        "result=min_max(x)\n",
        "print(result)"
      ],
      "metadata": {
        "colab": {
          "base_uri": "https://localhost:8080/"
        },
        "id": "H8IRoUO9a5cv",
        "outputId": "c9784176-4183-42b6-d70a-85e5fd7ce537"
      },
      "execution_count": 12,
      "outputs": [
        {
          "output_type": "stream",
          "name": "stdout",
          "text": [
            "(10, 50)\n"
          ]
        }
      ]
    }
  ]
}