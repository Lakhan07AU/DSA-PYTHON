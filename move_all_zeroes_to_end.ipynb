{
  "nbformat": 4,
  "nbformat_minor": 0,
  "metadata": {
    "colab": {
      "provenance": []
    },
    "kernelspec": {
      "name": "python3",
      "display_name": "Python 3"
    },
    "language_info": {
      "name": "python"
    }
  },
  "cells": [
    {
      "cell_type": "code",
      "execution_count": 18,
      "metadata": {
        "colab": {
          "base_uri": "https://localhost:8080/"
        },
        "id": "4AECSkec-Jte",
        "outputId": "823c10dc-50e3-4c9a-e56f-e7fe4b7dcdfc"
      },
      "outputs": [
        {
          "output_type": "stream",
          "name": "stdout",
          "text": [
            "Before: [0, 1, 0, 3, 12]\n",
            "After: [1, 3, 12, 0, 0]\n"
          ]
        }
      ],
      "source": [
        "#move all zeroes to end.\n",
        "def move_zeroes_to_end(arr):\n",
        "    # Pointer to track the position of the last non-zero element\n",
        "    non_zero_index = 0\n",
        "\n",
        "    # Traverse through the array\n",
        "    for i in range(len(arr)):\n",
        "        if arr[i] != 0:\n",
        "            # Swap non-zero element with the element at non_zero_index\n",
        "            arr[non_zero_index], arr[i] = arr[i], arr[non_zero_index]\n",
        "            non_zero_index += 1\n",
        "\n",
        "    return arr\n",
        "\n",
        "# Example usage\n",
        "arr = [0, 1, 0, 3, 12]\n",
        "print(\"Before:\", arr)\n",
        "result = move_zeroes_to_end(arr)\n",
        "print(\"After:\", result)\n",
        "\n"
      ]
    },
    {
      "cell_type": "code",
      "source": [
        "import numpy as np\n",
        "x = np.array([0, 1, 0, 1, 0, 1, 1, 1])\n",
        "def Move_Zero_end(x):\n",
        "    Count_0 = 0\n",
        "    Store_1 = 0\n",
        "    i = len(x)-1\n",
        "    while i >= 0:\n",
        "        if x[i] == 1:\n",
        "            Store_1 += 1\n",
        "        else:\n",
        "            Count_0 += 1\n",
        "        i -= 1\n",
        "    result = [1] * Store_1 + [0] * Count_0\n",
        "    return result\n",
        "print(\"output:\", Move_Zero_end(x))"
      ],
      "metadata": {
        "colab": {
          "base_uri": "https://localhost:8080/"
        },
        "id": "j8c4EKpt_wuh",
        "outputId": "1fc84eba-50b7-4e02-cc25-f40c63b9f096"
      },
      "execution_count": 3,
      "outputs": [
        {
          "output_type": "stream",
          "name": "stdout",
          "text": [
            "output: [1, 1, 1, 1, 1, 0, 0, 0]\n"
          ]
        }
      ]
    },
    {
      "cell_type": "code",
      "source": [],
      "metadata": {
        "id": "FpCoH7r5_xPM"
      },
      "execution_count": null,
      "outputs": []
    },
    {
      "cell_type": "code",
      "source": [],
      "metadata": {
        "colab": {
          "base_uri": "https://localhost:8080/",
          "height": 36
        },
        "id": "wVtzH21H_x2B",
        "outputId": "a9ef39bd-a67b-4022-b1d2-07a9e86e887d"
      },
      "execution_count": 10,
      "outputs": [
        {
          "output_type": "execute_result",
          "data": {
            "text/plain": [
              "''"
            ],
            "application/vnd.google.colaboratory.intrinsic+json": {
              "type": "string"
            }
          },
          "metadata": {},
          "execution_count": 10
        }
      ]
    },
    {
      "cell_type": "code",
      "source": [
        "\n"
      ],
      "metadata": {
        "id": "eOMGUR_H_yAM"
      },
      "execution_count": null,
      "outputs": []
    },
    {
      "cell_type": "code",
      "source": [],
      "metadata": {
        "id": "noWwxN-4_zqO"
      },
      "execution_count": null,
      "outputs": []
    },
    {
      "cell_type": "code",
      "source": [
        ""
      ],
      "metadata": {
        "id": "nLtsnASX_zxh"
      },
      "execution_count": null,
      "outputs": []
    }
  ]
}