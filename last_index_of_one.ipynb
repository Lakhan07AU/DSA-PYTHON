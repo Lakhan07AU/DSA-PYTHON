{
  "nbformat": 4,
  "nbformat_minor": 0,
  "metadata": {
    "colab": {
      "provenance": []
    },
    "kernelspec": {
      "name": "python3",
      "display_name": "Python 3"
    },
    "language_info": {
      "name": "python"
    }
  },
  "cells": [
    {
      "cell_type": "code",
      "execution_count": null,
      "metadata": {
        "colab": {
          "base_uri": "https://localhost:8080/"
        },
        "id": "QBhypaIf4QTW",
        "outputId": "ceb8e52e-4186-404f-f28d-a24ffade5488"
      },
      "outputs": [
        {
          "output_type": "stream",
          "name": "stdout",
          "text": [
            "last index of one : 1\n"
          ]
        }
      ],
      "source": [
        "#last index of one\n",
        "import numpy as np\n",
        "x=np.array([0,1,1,0,1,0,1,0,0])\n",
        "def last1_occur(x):\n",
        "   index=-1\n",
        "   n = len(x)\n",
        "   for i in range(n):\n",
        "      if x[i]==1:\n",
        "        index=1\n",
        "   return index\n",
        "print(\"last index of one :\",last1_occur(x))"
      ]
    }
  ]
}