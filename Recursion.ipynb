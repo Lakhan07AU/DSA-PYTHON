{
 "cells": [
  {
   "cell_type": "code",
   "execution_count": 1,
   "id": "451303e1-eb4a-43e2-be49-05fe52b10fdd",
   "metadata": {},
   "outputs": [
    {
     "name": "stdout",
     "output_type": "stream",
     "text": [
      "Move disk 1 from rod A to rod B\n",
      "Move disk 2 from rod A to rod C\n",
      "Move disk 1 from rod B to rod C\n",
      "Move disk 3 from rod A to rod B\n",
      "Move disk 1 from rod C to rod A\n",
      "Move disk 2 from rod C to rod B\n",
      "Move disk 1 from rod A to rod B\n",
      "Move disk 4 from rod A to rod C\n",
      "Move disk 1 from rod B to rod C\n",
      "Move disk 2 from rod B to rod A\n",
      "Move disk 1 from rod C to rod A\n",
      "Move disk 3 from rod B to rod C\n",
      "Move disk 1 from rod A to rod B\n",
      "Move disk 2 from rod A to rod C\n",
      "Move disk 1 from rod B to rod C\n"
     ]
    }
   ],
   "source": [
    "#1\n",
    "def tower_of_hanoi(n, from_rod, to_rod, aux_rod):\n",
    "    if n == 1:\n",
    "        print(f\"Move disk 1 from rod {from_rod} to rod {to_rod}\")\n",
    "        return\n",
    "    tower_of_hanoi(n - 1, from_rod, aux_rod, to_rod)\n",
    "    print(f\"Move disk {n} from rod {from_rod} to rod {to_rod}\")\n",
    "    tower_of_hanoi(n - 1, aux_rod, to_rod, from_rod)\n",
    "\n",
    "n = 4\n",
    "tower_of_hanoi(n, 'A', 'C', 'B')\n"
   ]
  },
  {
   "cell_type": "code",
   "execution_count": 3,
   "id": "f7704939-66a1-41c0-a3b0-985943ec801a",
   "metadata": {},
   "outputs": [
    {
     "name": "stdout",
     "output_type": "stream",
     "text": [
      "Sum of digits: 15\n"
     ]
    }
   ],
   "source": [
    "#2\n",
    "def sum_of_digits(n):\n",
    "    if n == 0:\n",
    "        return 0\n",
    "    else:\n",
    "        return n % 10 + sum_of_digits(n // 10)\n",
    "\n",
    "num = 12345\n",
    "print(\"Sum of digits:\", sum_of_digits(num))\n"
   ]
  },
  {
   "cell_type": "code",
   "execution_count": 5,
   "id": "0e9e3c2d-e97b-42e9-9bc6-81a851c88c6e",
   "metadata": {},
   "outputs": [
    {
     "name": "stdout",
     "output_type": "stream",
     "text": [
      "GCD: 6\n"
     ]
    }
   ],
   "source": [
    "#3\n",
    "def gcd(a, b):\n",
    "    if b == 0:\n",
    "        return a\n",
    "    else:\n",
    "        return gcd(b, a % b)\n",
    "\n",
    "num1 = 48\n",
    "num2 = 18\n",
    "print(\"GCD:\", gcd(num1, num2))\n"
   ]
  },
  {
   "cell_type": "code",
   "execution_count": 7,
   "id": "b95bfefa-0ade-4ec6-a250-f2290c7645ee",
   "metadata": {},
   "outputs": [
    {
     "name": "stdout",
     "output_type": "stream",
     "text": [
      "0 1 1 2 3 5 8 13 21 34 "
     ]
    }
   ],
   "source": [
    "#4\n",
    "def fibonacci(n):\n",
    "    if n < 1:\n",
    "        return -1\n",
    "    elif n == 1:\n",
    "        return 0\n",
    "    elif n == 2:\n",
    "        return 1\n",
    "    else:\n",
    "        return fibonacci(n - 1) + fibonacci(n - 2)\n",
    "\n",
    "def print_fibonacci(n):\n",
    "    for i in range(1, n + 1):\n",
    "        print(fibonacci(i), end=\" \")\n",
    "\n",
    "n = 10\n",
    "print_fibonacci(n)\n"
   ]
  },
  {
   "cell_type": "code",
   "execution_count": 9,
   "id": "9c75319d-b57f-4042-909c-b85ed9ae9ed1",
   "metadata": {},
   "outputs": [
    {
     "name": "stdout",
     "output_type": "stream",
     "text": [
      "Binary representation: 1010\n"
     ]
    }
   ],
   "source": [
    "#5\n",
    "def decimal_to_binary(n):\n",
    "    if n == 0:\n",
    "        return \"0\"\n",
    "    elif n == 1:\n",
    "        return \"1\"\n",
    "    else:\n",
    "        if n % 2 == 0:\n",
    "            return decimal_to_binary(n // 2) + \"0\"\n",
    "        else:\n",
    "            return decimal_to_binary(n // 2) + \"1\"\n",
    "\n",
    "num = 10\n",
    "print(\"Binary representation:\", decimal_to_binary(num))\n"
   ]
  },
  {
   "cell_type": "code",
   "execution_count": 11,
   "id": "74bd81f8-a857-4926-8aff-46e8b401213f",
   "metadata": {},
   "outputs": [
    {
     "name": "stdout",
     "output_type": "stream",
     "text": [
      "Number of zeroes: 3\n"
     ]
    }
   ],
   "source": [
    "#6\n",
    "def count_zeroes(n):\n",
    "    if n == 0:\n",
    "        return 1\n",
    "    elif n < 10:\n",
    "        return 0\n",
    "    else:\n",
    "        if n % 10 == 0:\n",
    "            return 1 + count_zeroes(n // 10)\n",
    "        else:\n",
    "            return count_zeroes(n // 10)\n",
    "\n",
    "num = 10010\n",
    "print(\"Number of zeroes:\", count_zeroes(num))\n"
   ]
  },
  {
   "cell_type": "code",
   "execution_count": 13,
   "id": "d67b56a2-036d-4371-b25c-8802a6a7203a",
   "metadata": {},
   "outputs": [
    {
     "name": "stdout",
     "output_type": "stream",
     "text": [
      "Sum of natural numbers: 55\n"
     ]
    }
   ],
   "source": [
    "#7\n",
    "def sum_of_natural_numbers(n):\n",
    "    if n == 1:\n",
    "        return 1\n",
    "    else:\n",
    "        return n + sum_of_natural_numbers(n - 1)\n",
    "\n",
    "n = 10\n",
    "print(\"Sum of natural numbers:\", sum_of_natural_numbers(n))\n"
   ]
  },
  {
   "cell_type": "code",
   "execution_count": 15,
   "id": "ea9c0719-0b1c-4f07-84c7-e0b450e8f668",
   "metadata": {},
   "outputs": [
    {
     "name": "stdout",
     "output_type": "stream",
     "text": [
      "Number of digits: 5\n"
     ]
    }
   ],
   "source": [
    "#8\n",
    "def count_digits(n):\n",
    "    if n < 10:\n",
    "        return 1\n",
    "    else:\n",
    "        return 1 + count_digits(n // 10)\n",
    "\n",
    "num = 12345\n",
    "print(\"Number of digits:\", count_digits(num))\n"
   ]
  },
  {
   "cell_type": "code",
   "execution_count": 17,
   "id": "055283f6-794e-4462-a69a-5831162e64b0",
   "metadata": {},
   "outputs": [
    {
     "name": "stdout",
     "output_type": "stream",
     "text": [
      "Number of odd digits: 3\n"
     ]
    }
   ],
   "source": [
    "#9\n",
    "def count_odd_digits(n):\n",
    "    if n == 0:  # Base case: when the number becomes 0\n",
    "        return 0\n",
    "    else:\n",
    "        if n % 10 % 2 != 0:  # Check if the last digit is odd\n",
    "            return 1 + count_odd_digits(n // 10)  # Add 1 if odd\n",
    "        else:\n",
    "            return count_odd_digits(n // 10)  # Continue checking other digits\n",
    "\n",
    "num = 12345\n",
    "print(\"Number of odd digits:\", count_odd_digits(num))\n"
   ]
  },
  {
   "cell_type": "code",
   "execution_count": 23,
   "id": "a0050dc5-9e33-4863-bcb8-27158ce5af8b",
   "metadata": {},
   "outputs": [
    {
     "name": "stdout",
     "output_type": "stream",
     "text": [
      "Length of the string: 5\n"
     ]
    }
   ],
   "source": [
    "#10\n",
    "def length_of_string(s):\n",
    "    if s == \"\":  # Base case: if the string is empty\n",
    "        return 0\n",
    "    else:\n",
    "        return 1 + length_of_string(s[1:])  # 1 + recursive call with the rest of the string\n",
    "\n",
    "s = \"hello\"\n",
    "print(\"Length of the string:\", length_of_string(s))\n"
   ]
  },
  {
   "cell_type": "code",
   "execution_count": 25,
   "id": "380eef24-5912-415e-9be4-62fa82505dd4",
   "metadata": {},
   "outputs": [
    {
     "name": "stdout",
     "output_type": "stream",
     "text": [
      "Number of digits in the string: 6\n"
     ]
    }
   ],
   "source": [
    "#11\n",
    "def count_digits_in_string(s):\n",
    "    if s == \"\":  # Base case: if the string is empty\n",
    "        return 0\n",
    "    elif s[0].isdigit():  # Check if the first character is a digit\n",
    "        return 1 + count_digits_in_string(s[1:])  # Add 1 if it's a digit\n",
    "    else:\n",
    "        return count_digits_in_string(s[1:])  # Continue with the rest of the string\n",
    "\n",
    "s = \"abc123def456\"\n",
    "print(\"Number of digits in the string:\", count_digits_in_string(s))\n"
   ]
  },
  {
   "cell_type": "code",
   "execution_count": 27,
   "id": "4ed452ad-5a41-470f-924e-1d9299fe75ba",
   "metadata": {},
   "outputs": [
    {
     "name": "stdout",
     "output_type": "stream",
     "text": [
      "String in reverse order: olleh"
     ]
    }
   ],
   "source": [
    "#12\n",
    "def print_reverse(s):\n",
    "    if s == \"\":  # Base case: if the string is empty\n",
    "        return\n",
    "    else:\n",
    "        print_reverse(s[1:])  # Recursive call with the rest of the string\n",
    "        print(s[0], end=\"\")  # Print the first character after recursive call\n",
    "\n",
    "s = \"hello\"\n",
    "print(\"String in reverse order:\", end=\" \")\n",
    "print_reverse(s)\n"
   ]
  },
  {
   "cell_type": "code",
   "execution_count": 29,
   "id": "17e8247e-a4ba-4326-9ad8-2177626979b3",
   "metadata": {},
   "outputs": [
    {
     "name": "stdout",
     "output_type": "stream",
     "text": [
      "Number of vowels in the string: 2\n"
     ]
    }
   ],
   "source": [
    "#13\n",
    "def count_vowels(s):\n",
    "    if s == \"\":  # Base case: if the string is empty\n",
    "        return 0\n",
    "    elif s[0].lower() in \"aeiou\":  # Check if the first character is a vowel\n",
    "        return 1 + count_vowels(s[1:])  # Add 1 if it's a vowel\n",
    "    else:\n",
    "        return count_vowels(s[1:])  # Continue with the rest of the string\n",
    "\n",
    "s = \"hello\"\n",
    "print(\"Number of vowels in the string:\", count_vowels(s))\n"
   ]
  },
  {
   "cell_type": "code",
   "execution_count": 37,
   "id": "7c35021d-6155-4a83-ae7e-3829f9fd083e",
   "metadata": {},
   "outputs": [
    {
     "name": "stdin",
     "output_type": "stream",
     "text": [
      "Enter any number:  5\n"
     ]
    },
    {
     "name": "stdout",
     "output_type": "stream",
     "text": [
      "Factorial output: 120\n"
     ]
    }
   ],
   "source": [
    "#example 1\n",
    "def factorial(num):\n",
    "  if num == 0:\n",
    "    return 1\n",
    "  else:\n",
    "    return num*factorial(num-1)\n",
    "n = int(input(\"Enter any number: \"))\n",
    "fact = factorial(n)\n",
    "print(\"Factorial output:\",fact)"
   ]
  },
  {
   "cell_type": "code",
   "execution_count": 39,
   "id": "922c024e-eb4e-45d1-976b-ba64c27c38a8",
   "metadata": {},
   "outputs": [
    {
     "name": "stdin",
     "output_type": "stream",
     "text": [
      "Enter any number: 5\n",
      "Enter exponent: 2\n"
     ]
    },
    {
     "name": "stdout",
     "output_type": "stream",
     "text": [
      "Result: 25\n"
     ]
    }
   ],
   "source": [
    "#example 2\n",
    "def power(a,b):\n",
    "    if b == 0:\n",
    "        return 1\n",
    "    else:\n",
    "        return a*power(a,b-1)\n",
    "num = int(input(\"Enter any number:\"))\n",
    "exp = int(input(\"Enter exponent:\"))\n",
    "result = power(num,exp)\n",
    "print(\"Result:\",result)"
   ]
  },
  {
   "cell_type": "code",
   "execution_count": 44,
   "id": "9e570ab2-76bf-47a3-972c-e69ac74380d5",
   "metadata": {},
   "outputs": [
    {
     "name": "stdout",
     "output_type": "stream",
     "text": [
      "Fibonacci number at position 5 is 3\n"
     ]
    }
   ],
   "source": [
    "#example 3\n",
    "def fibonacci(n):\n",
    "# Base case\n",
    "    if n < 1:\n",
    "      return -1\n",
    "    elif n==1:\n",
    "        return 0\n",
    "    elif n==2:\n",
    "        return 1\n",
    "# Recursive case (binary recursion)\n",
    "    else:\n",
    "       return fibonacci(n-1) + fibonacci(n-2)\n",
    "# Example usage\n",
    "n = 5 # Change this value to test other positions\n",
    "print(f\"Fibonacci number at position {n} is {fibonacci(n)}\")"
   ]
  },
  {
   "cell_type": "code",
   "execution_count": 59,
   "id": "5ea890d7-309b-402d-b944-214d923b914c",
   "metadata": {},
   "outputs": [
    {
     "name": "stdout",
     "output_type": "stream",
     "text": [
      "The number is odd\n"
     ]
    }
   ],
   "source": [
    "#example\n",
    "def iseven(n):\n",
    "# Base case for even number\n",
    "    if n == 0:\n",
    "        return True\n",
    "# Base case for odd number\n",
    "    elif n == 1:\n",
    "        return False\n",
    "# Recursive case\n",
    "    elif n > 1:\n",
    "        return isodd(n - 1)\n",
    "# Handle negative numbers\n",
    "    elif n < 0:\n",
    "         return iseven(-n)\n",
    "def isodd(n):\n",
    "    return not iseven(n)\n",
    "# Input from the user\n",
    "num = -5\n",
    "if iseven(num):\n",
    "  print(\"The number is even\")\n",
    "else:\n",
    "  print(\"The number is odd\")\n"
   ]
  },
  {
   "cell_type": "code",
   "execution_count": null,
   "id": "2f22132c-0028-4d44-9621-04ece111d79f",
   "metadata": {},
   "outputs": [],
   "source": []
  }
 ],
 "metadata": {
  "kernelspec": {
   "display_name": "Python [conda env:base] *",
   "language": "python",
   "name": "conda-base-py"
  },
  "language_info": {
   "codemirror_mode": {
    "name": "ipython",
    "version": 3
   },
   "file_extension": ".py",
   "mimetype": "text/x-python",
   "name": "python",
   "nbconvert_exporter": "python",
   "pygments_lexer": "ipython3",
   "version": "3.12.7"
  }
 },
 "nbformat": 4,
 "nbformat_minor": 5
}
