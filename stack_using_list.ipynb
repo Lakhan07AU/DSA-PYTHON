{
 "cells": [
  {
   "cell_type": "code",
   "execution_count": 47,
   "id": "b4629df4-f75b-4766-96d8-5f3abf644bde",
   "metadata": {},
   "outputs": [
    {
     "name": "stdout",
     "output_type": "stream",
     "text": [
      "\n",
      " program to implement the stack using list\n",
      "1.push\n",
      "2.pop\n",
      "3.peek\n",
      "4.display\n",
      "5.exit\n"
     ]
    },
    {
     "name": "stdin",
     "output_type": "stream",
     "text": [
      "enter the choice :  1\n",
      "enter the data :  2\n"
     ]
    },
    {
     "name": "stdout",
     "output_type": "stream",
     "text": [
      "\n",
      " program to implement the stack using list\n",
      "1.push\n",
      "2.pop\n",
      "3.peek\n",
      "4.display\n",
      "5.exit\n"
     ]
    },
    {
     "name": "stdin",
     "output_type": "stream",
     "text": [
      "enter the choice :  3\n"
     ]
    },
    {
     "name": "stdout",
     "output_type": "stream",
     "text": [
      "peeked item= 2\n",
      "\n",
      " program to implement the stack using list\n",
      "1.push\n",
      "2.pop\n",
      "3.peek\n",
      "4.display\n",
      "5.exit\n"
     ]
    },
    {
     "name": "stdin",
     "output_type": "stream",
     "text": [
      "enter the choice :  4\n"
     ]
    },
    {
     "name": "stdout",
     "output_type": "stream",
     "text": [
      "\n"
     ]
    },
    {
     "ename": "IndexError",
     "evalue": "list index out of range",
     "output_type": "error",
     "traceback": [
      "\u001b[1;31m---------------------------------------------------------------------------\u001b[0m",
      "\u001b[1;31mIndexError\u001b[0m                                Traceback (most recent call last)",
      "Cell \u001b[1;32mIn[47], line 47\u001b[0m\n\u001b[0;32m     45\u001b[0m         \u001b[38;5;28mprint\u001b[39m (\u001b[38;5;124m\"\u001b[39m\u001b[38;5;124mstack underflow\u001b[39m\u001b[38;5;124m\"\u001b[39m )\n\u001b[0;32m     46\u001b[0m     \u001b[38;5;28;01melse\u001b[39;00m:\n\u001b[1;32m---> 47\u001b[0m         s\u001b[38;5;241m.\u001b[39mdisplay()\n\u001b[0;32m     48\u001b[0m \u001b[38;5;28;01melif\u001b[39;00m choice \u001b[38;5;241m==\u001b[39m \u001b[38;5;241m5\u001b[39m:\n\u001b[0;32m     49\u001b[0m     \u001b[38;5;28mprint\u001b[39m(\u001b[38;5;124m\"\u001b[39m\u001b[38;5;124mQuitting program...\u001b[39m\u001b[38;5;124m\"\u001b[39m)\n",
      "Cell \u001b[1;32mIn[47], line 18\u001b[0m, in \u001b[0;36mStack.display\u001b[1;34m(self)\u001b[0m\n\u001b[0;32m     16\u001b[0m \u001b[38;5;28mprint\u001b[39m()\n\u001b[0;32m     17\u001b[0m \u001b[38;5;28;01mfor\u001b[39;00m i \u001b[38;5;129;01min\u001b[39;00m \u001b[38;5;28mrange\u001b[39m (top,\u001b[38;5;241m-\u001b[39m\u001b[38;5;241m1\u001b[39m,\u001b[38;5;241m-\u001b[39m\u001b[38;5;241m1\u001b[39m):\n\u001b[1;32m---> 18\u001b[0m     \u001b[38;5;28mprint\u001b[39m(\u001b[38;5;28mself\u001b[39m\u001b[38;5;241m.\u001b[39mitems[i])\n",
      "\u001b[1;31mIndexError\u001b[0m: list index out of range"
     ]
    }
   ],
   "source": [
    "class Stack:\n",
    "    def __init__(self):\n",
    "        self.items=[]\n",
    "    def isempty(self):\n",
    "        return self.items == []\n",
    "    def push(self,item):\n",
    "        return self.items.append(item)\n",
    "    def pop(self):\n",
    "        return self.items.pop()\n",
    "    def peek(self):\n",
    "        return self.items[len(self.items)-1]\n",
    "    def size(self):\n",
    "        return len(self.items)\n",
    "    def display(self):\n",
    "        top=len(self.items)\n",
    "        print()\n",
    "        for i in range (top,-1,-1):\n",
    "            print(self.items[i])\n",
    "s=Stack()\n",
    "while(True):\n",
    "    print(\"\\n program to implement the stack using list\")\n",
    "    print(\"1.push\")\n",
    "    print(\"2.pop\")\n",
    "    print(\"3.peek\")\n",
    "    print(\"4.display\")\n",
    "    print(\"5.exit\")\n",
    "    choice= int (input(\"enter the choice : \"))\n",
    "    if choice ==1 :\n",
    "        num = int(input(\"enter the data : \"))\n",
    "        s.push (num)\n",
    "    elif choice==2:\n",
    "        if s.isempty():\n",
    "            print(\"stack underflow\")\n",
    "        else :\n",
    "            num =s.pop()\n",
    "            print(\"popped item=\",num)\n",
    "    elif choice ==3:\n",
    "        if s.isempty():\n",
    "            print (\"stack underflow\" )\n",
    "        else:\n",
    "            num=s.peek()\n",
    "            print(\"peeked item=\",num)\n",
    "    elif choice ==4:\n",
    "        if s.isempty():\n",
    "            print (\"stack underflow\" )\n",
    "        else:\n",
    "            s.display()\n",
    "    elif choice == 5:\n",
    "        print(\"Quitting program...\")\n",
    "        break\n",
    "    else:\n",
    "        print(\"Invalid choice! Please enter a valid choice (1-5).\")\n",
    "        \n",
    "              \n",
    "              \n",
    "        \n",
    "\n",
    "    \n",
    "                   "
   ]
  },
  {
   "cell_type": "code",
   "execution_count": 20,
   "id": "80b27e07-1d0e-4275-b35d-c402f3425348",
   "metadata": {},
   "outputs": [
    {
     "name": "stdout",
     "output_type": "stream",
     "text": [
      "\n",
      "Program to implement the stack using list\n",
      "1. Push\n",
      "2. Pop\n",
      "3. Peek\n",
      "4. Display\n",
      "5. Exit\n"
     ]
    },
    {
     "name": "stdin",
     "output_type": "stream",
     "text": [
      "Enter the choice (1-5):  1\n",
      "Enter the data to push:  2\n"
     ]
    },
    {
     "name": "stdout",
     "output_type": "stream",
     "text": [
      "\n",
      "Program to implement the stack using list\n",
      "1. Push\n",
      "2. Pop\n",
      "3. Peek\n",
      "4. Display\n",
      "5. Exit\n"
     ]
    },
    {
     "name": "stdin",
     "output_type": "stream",
     "text": [
      "Enter the choice (1-5):  3\n"
     ]
    },
    {
     "name": "stdout",
     "output_type": "stream",
     "text": [
      "Peeked item: 2\n",
      "\n",
      "Program to implement the stack using list\n",
      "1. Push\n",
      "2. Pop\n",
      "3. Peek\n",
      "4. Display\n",
      "5. Exit\n"
     ]
    },
    {
     "name": "stdin",
     "output_type": "stream",
     "text": [
      "Enter the choice (1-5):  4\n"
     ]
    },
    {
     "name": "stdout",
     "output_type": "stream",
     "text": [
      "Stack from top to bottom:\n",
      "2\n",
      "\n",
      "Program to implement the stack using list\n",
      "1. Push\n",
      "2. Pop\n",
      "3. Peek\n",
      "4. Display\n",
      "5. Exit\n"
     ]
    },
    {
     "name": "stdin",
     "output_type": "stream",
     "text": [
      "Enter the choice (1-5):  5\n"
     ]
    },
    {
     "name": "stdout",
     "output_type": "stream",
     "text": [
      "Quitting program...\n"
     ]
    }
   ],
   "source": [
    "class Stack:\n",
    "    def __init__(self):\n",
    "        self.items = []  # Initialize an empty list to store stack items.\n",
    "\n",
    "    def isempty(self):\n",
    "        return self.items == []  # Return True if the stack is empty.\n",
    "\n",
    "    def push(self, item):\n",
    "        self.items.append(item)  # Append an item to the stack.\n",
    "\n",
    "    def pop(self):\n",
    "        if not self.isempty():\n",
    "            return self.items.pop()  # Pop the top item from the stack.\n",
    "        return None  # Return None if the stack is empty.\n",
    "\n",
    "    def peek(self):\n",
    "        if not self.isempty():\n",
    "            return self.items[len(self.items) - 1]  # Return the top item without removing it.\n",
    "        return None  # Return None if the stack is empty.\n",
    "\n",
    "    def size(self):\n",
    "        return len(self.items)  # Return the number of items in the stack.\n",
    "\n",
    "    def display(self):\n",
    "        if self.isempty():\n",
    "            print(\"Stack is empty\")\n",
    "        else:\n",
    "            print(\"Stack from top to bottom:\")\n",
    "            for item in reversed(self.items):\n",
    "                print(item)\n",
    "\n",
    "\n",
    "# Create a Stack object\n",
    "s = Stack()\n",
    "\n",
    "# Main program loop\n",
    "while True:\n",
    "    print(\"\\nProgram to implement the stack using list\")\n",
    "    print(\"1. Push\")\n",
    "    print(\"2. Pop\")\n",
    "    print(\"3. Peek\")\n",
    "    print(\"4. Display\")\n",
    "    print(\"5. Exit\")\n",
    "    \n",
    "    choice = int(input(\"Enter the choice (1-5): \"))\n",
    "    \n",
    "    if choice == 1:\n",
    "        num = int(input(\"Enter the data to push: \"))\n",
    "        s.push(num)\n",
    "    elif choice == 2:\n",
    "        if s.isempty():\n",
    "            print(\"Stack underflow (Empty stack)\")\n",
    "        else:\n",
    "            num = s.pop()\n",
    "            print(f\"Popped item: {num}\")\n",
    "    elif choice == 3:\n",
    "        if s.isempty():\n",
    "            print(\"Stack underflow (Empty stack)\")\n",
    "        else:\n",
    "            num = s.peek()\n",
    "            print(f\"Peeked item: {num}\")\n",
    "    elif choice == 4:\n",
    "        if s.isempty():\n",
    "            print(\"Stack underflow (Empty stack)\")\n",
    "        else:\n",
    "            s.display()\n",
    "    elif choice == 5:\n",
    "        print(\"Quitting program...\")\n",
    "        break\n",
    "    else:\n",
    "        print(\"Invalid choice! Please enter a valid choice (1-5).\")\n",
    "        \n"
   ]
  },
  {
   "cell_type": "markdown",
   "id": "cd3bcd34-aa69-466c-9020-3fd7e0e3ae25",
   "metadata": {},
   "source": [
    "# class Stack:\n",
    "    def __init__(self):\n",
    "        self.items = []\n",
    "\n",
    "    def isempty(self):\n",
    "        return self.items == []\n",
    "\n",
    "    def push(self,item):\n",
    "        return self.items.append(item)\n",
    "\n",
    "    def pop(self):\n",
    "        return self.items.pop()\n",
    "\n",
    "    def peek(self):\n",
    "        return self.items[len(self.items)-1]\n",
    "\n",
    "    def size(self):\n",
    "        return len(self.items)\n",
    "\n",
    "    def display(self):\n",
    "        top = len(self.items)\n",
    "        print()\n",
    "        for i in range(top,-1,-1):\n",
    "            print(self.items[i])\n",
    "\n",
    "s = Stack()\n",
    "while(True):\n",
    "    print(\"\\n program to implement the stack using list\")\n",
    "    print(\"1.push\")\n",
    "    print(\"2.pop\")\n",
    "    print(\"3.peek\")\n",
    "    print(\"4.display\")\n",
    "    print(\"5.exit\")\n",
    "    choice = int(input(\"Enter your choice\"))\n",
    "    if choice == 1:\n",
    "        num = int(input(\"Enter the data:\"))\n",
    "        s.push(num)\n",
    "    elif choice == 2:\n",
    "        if s.isempty():\n",
    "            print(\"Stack underflow\")\n",
    "        else:\n",
    "            num = s.pop()\n",
    "            print(\"Popped item = \",num)\n",
    "\n",
    "    elif choice == 3:\n",
    "        if s.isempty():\n",
    "            print(\"Stack underflow\")\n",
    "        else:\n",
    "            num = s.peek()\n",
    "            print(\"Peeked item = \",num)\n",
    "    elif choice == 4:\n",
    "        if s.isempty():\n",
    "            print (\"stack underflow\") \n",
    "        else:\n",
    "            s.display()\n",
    "    elif choice == 5:\n",
    "        print (\"\\nQuitting......\")\n",
    "        break\n",
    "    else:\n",
    "        print(\"invalid choice !!!! enter the choice (1-5):\")\n",
    "    \n",
    "\n"
   ]
  },
  {
   "cell_type": "code",
   "execution_count": 56,
   "id": "48bf21f0-eda6-4763-9156-84acb28109d8",
   "metadata": {},
   "outputs": [
    {
     "name": "stdout",
     "output_type": "stream",
     "text": [
      "\n",
      " program to implement the stack using list\n",
      "1.push\n",
      "2.pop\n",
      "3.peek\n",
      "4.display\n",
      "5.exit\n"
     ]
    },
    {
     "name": "stdin",
     "output_type": "stream",
     "text": [
      "Enter your choice 1\n",
      "Enter the data: 1\n"
     ]
    },
    {
     "name": "stdout",
     "output_type": "stream",
     "text": [
      "\n",
      " program to implement the stack using list\n",
      "1.push\n",
      "2.pop\n",
      "3.peek\n",
      "4.display\n",
      "5.exit\n"
     ]
    },
    {
     "name": "stdin",
     "output_type": "stream",
     "text": [
      "Enter your choice 1\n",
      "Enter the data: 1\n"
     ]
    },
    {
     "name": "stdout",
     "output_type": "stream",
     "text": [
      "\n",
      " program to implement the stack using list\n",
      "1.push\n",
      "2.pop\n",
      "3.peek\n",
      "4.display\n",
      "5.exit\n"
     ]
    },
    {
     "name": "stdin",
     "output_type": "stream",
     "text": [
      "Enter your choice 1\n",
      "Enter the data: 1\n"
     ]
    },
    {
     "name": "stdout",
     "output_type": "stream",
     "text": [
      "\n",
      " program to implement the stack using list\n",
      "1.push\n",
      "2.pop\n",
      "3.peek\n",
      "4.display\n",
      "5.exit\n"
     ]
    },
    {
     "name": "stdin",
     "output_type": "stream",
     "text": [
      "Enter your choice 1\n",
      "Enter the data: 1\n"
     ]
    },
    {
     "name": "stdout",
     "output_type": "stream",
     "text": [
      "\n",
      " program to implement the stack using list\n",
      "1.push\n",
      "2.pop\n",
      "3.peek\n",
      "4.display\n",
      "5.exit\n"
     ]
    },
    {
     "name": "stdin",
     "output_type": "stream",
     "text": [
      "Enter your choice 1\n",
      "Enter the data: 1\n"
     ]
    },
    {
     "name": "stdout",
     "output_type": "stream",
     "text": [
      "\n",
      " program to implement the stack using list\n",
      "1.push\n",
      "2.pop\n",
      "3.peek\n",
      "4.display\n",
      "5.exit\n"
     ]
    },
    {
     "name": "stdin",
     "output_type": "stream",
     "text": [
      "Enter your choice 1\n",
      "Enter the data: 1\n"
     ]
    },
    {
     "name": "stdout",
     "output_type": "stream",
     "text": [
      "\n",
      " program to implement the stack using list\n",
      "1.push\n",
      "2.pop\n",
      "3.peek\n",
      "4.display\n",
      "5.exit\n"
     ]
    },
    {
     "name": "stdin",
     "output_type": "stream",
     "text": [
      "Enter your choice 1\n",
      "Enter the data: 1\n"
     ]
    },
    {
     "name": "stdout",
     "output_type": "stream",
     "text": [
      "\n",
      " program to implement the stack using list\n",
      "1.push\n",
      "2.pop\n",
      "3.peek\n",
      "4.display\n",
      "5.exit\n"
     ]
    },
    {
     "name": "stdin",
     "output_type": "stream",
     "text": [
      "Enter your choice 1\n",
      "Enter the data: 1\n"
     ]
    },
    {
     "name": "stdout",
     "output_type": "stream",
     "text": [
      "\n",
      " program to implement the stack using list\n",
      "1.push\n",
      "2.pop\n",
      "3.peek\n",
      "4.display\n",
      "5.exit\n"
     ]
    },
    {
     "name": "stdin",
     "output_type": "stream",
     "text": [
      "Enter your choice 1\n",
      "Enter the data: 1\n"
     ]
    },
    {
     "name": "stdout",
     "output_type": "stream",
     "text": [
      "\n",
      " program to implement the stack using list\n",
      "1.push\n",
      "2.pop\n",
      "3.peek\n",
      "4.display\n",
      "5.exit\n"
     ]
    },
    {
     "name": "stdin",
     "output_type": "stream",
     "text": [
      "Enter your choice 1\n",
      "Enter the data: 1\n"
     ]
    },
    {
     "name": "stdout",
     "output_type": "stream",
     "text": [
      "\n",
      " program to implement the stack using list\n",
      "1.push\n",
      "2.pop\n",
      "3.peek\n",
      "4.display\n",
      "5.exit\n"
     ]
    },
    {
     "name": "stdin",
     "output_type": "stream",
     "text": [
      "Enter your choice 11\n"
     ]
    },
    {
     "name": "stdout",
     "output_type": "stream",
     "text": [
      "invalid choice !!!! enter the choice (1-5):\n",
      "\n",
      " program to implement the stack using list\n",
      "1.push\n",
      "2.pop\n",
      "3.peek\n",
      "4.display\n",
      "5.exit\n"
     ]
    },
    {
     "name": "stdin",
     "output_type": "stream",
     "text": [
      "Enter your choice \n"
     ]
    },
    {
     "ename": "ValueError",
     "evalue": "invalid literal for int() with base 10: ''",
     "output_type": "error",
     "traceback": [
      "\u001b[1;31m---------------------------------------------------------------------------\u001b[0m",
      "\u001b[1;31mValueError\u001b[0m                                Traceback (most recent call last)",
      "Cell \u001b[1;32mIn[56], line 34\u001b[0m\n\u001b[0;32m     32\u001b[0m \u001b[38;5;28mprint\u001b[39m(\u001b[38;5;124m\"\u001b[39m\u001b[38;5;124m4.display\u001b[39m\u001b[38;5;124m\"\u001b[39m)\n\u001b[0;32m     33\u001b[0m \u001b[38;5;28mprint\u001b[39m(\u001b[38;5;124m\"\u001b[39m\u001b[38;5;124m5.exit\u001b[39m\u001b[38;5;124m\"\u001b[39m)\n\u001b[1;32m---> 34\u001b[0m choice \u001b[38;5;241m=\u001b[39m \u001b[38;5;28mint\u001b[39m(\u001b[38;5;28minput\u001b[39m(\u001b[38;5;124m\"\u001b[39m\u001b[38;5;124mEnter your choice\u001b[39m\u001b[38;5;124m\"\u001b[39m))\n\u001b[0;32m     35\u001b[0m \u001b[38;5;28;01mif\u001b[39;00m choice \u001b[38;5;241m==\u001b[39m \u001b[38;5;241m1\u001b[39m:\n\u001b[0;32m     36\u001b[0m     num \u001b[38;5;241m=\u001b[39m \u001b[38;5;28mint\u001b[39m(\u001b[38;5;28minput\u001b[39m(\u001b[38;5;124m\"\u001b[39m\u001b[38;5;124mEnter the data:\u001b[39m\u001b[38;5;124m\"\u001b[39m))\n",
      "\u001b[1;31mValueError\u001b[0m: invalid literal for int() with base 10: ''"
     ]
    }
   ],
   "source": [
    "class Stack:\n",
    "    def __init__(self):\n",
    "        self.items = []\n",
    "\n",
    "    def isempty(self):\n",
    "        return self.items == []\n",
    "\n",
    "    def push(self,item):\n",
    "        return self.items.append(item)\n",
    "\n",
    "    def pop(self):\n",
    "        return self.items.pop()\n",
    "\n",
    "    def peek(self):\n",
    "        return self.items[len(self.items)-1]\n",
    "\n",
    "    def size(self):\n",
    "        return len(self.items)\n",
    "\n",
    "    def display(self):\n",
    "        top = len(self.items)\n",
    "        print()\n",
    "        for i in range(top,-1,-1):\n",
    "            print(self.items[i])\n",
    "\n",
    "s = Stack()\n",
    "while(True):\n",
    "    print(\"\\n program to implement the stack using list\")\n",
    "    print(\"1.push\")\n",
    "    print(\"2.pop\")\n",
    "    print(\"3.peek\")\n",
    "    print(\"4.display\")\n",
    "    print(\"5.exit\")\n",
    "    choice = int(input(\"Enter your choice\"))\n",
    "    if choice == 1:\n",
    "        num = int(input(\"Enter the data:\"))\n",
    "        s.push(num)\n",
    "    elif choice == 2:\n",
    "        if s.isempty():\n",
    "            print(\"Stack underflow\")\n",
    "        else:\n",
    "            num = s.pop()\n",
    "            print(\"Popped item = \",num)\n",
    "\n",
    "    elif choice == 3:\n",
    "        if s.isempty():\n",
    "            print(\"Stack underflow\")\n",
    "        else:\n",
    "            num = s.peek()\n",
    "            print(\"Peeked item = \",num)\n",
    "    elif choice == 4:\n",
    "        if s.isempty():\n",
    "            print (\"stack underflow\") \n",
    "        else:\n",
    "            s.display()\n",
    "    elif choice == 5:\n",
    "        print (\"\\nQuitting......\")\n",
    "        break\n",
    "    else:\n",
    "        print(\"invalid choice !!!! enter the choice (1-5):\")\n",
    "    \n",
    "        "
   ]
  },
  {
   "cell_type": "code",
   "execution_count": null,
   "id": "55f6e023-ff1a-4b29-be06-14df4b80d628",
   "metadata": {},
   "outputs": [],
   "source": []
  }
 ],
 "metadata": {
  "kernelspec": {
   "display_name": "Python [conda env:base] *",
   "language": "python",
   "name": "conda-base-py"
  },
  "language_info": {
   "codemirror_mode": {
    "name": "ipython",
    "version": 3
   },
   "file_extension": ".py",
   "mimetype": "text/x-python",
   "name": "python",
   "nbconvert_exporter": "python",
   "pygments_lexer": "ipython3",
   "version": "3.12.7"
  }
 },
 "nbformat": 4,
 "nbformat_minor": 5
}
