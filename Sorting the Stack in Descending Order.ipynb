{
 "cells": [
  {
   "cell_type": "code",
   "execution_count": 1,
   "id": "75ba494a-2b2d-42be-a71e-38f93bd7834f",
   "metadata": {},
   "outputs": [
    {
     "name": "stdout",
     "output_type": "stream",
     "text": [
      "[1, 2, 3, 4, 5]\n"
     ]
    }
   ],
   "source": [
    "def sort_stack(stack):\n",
    "    # Base case: If the stack is empty or has only one element, it's already sorted\n",
    "    if len(stack) == 0:\n",
    "        return\n",
    "    # Pop the top element\n",
    "    top = stack.pop()\n",
    "    # Recursively sort the remaining stack\n",
    "    sort_stack(stack)\n",
    "    # Insert the popped element back in sorted order\n",
    "    insert_sorted(stack, top)\n",
    "\n",
    "def insert_sorted(stack, element):\n",
    "    # If the stack is empty or the top element is smaller than the element, insert the element\n",
    "    if len(stack) == 0 or stack[-1] <= element:\n",
    "        stack.append(element)\n",
    "        return\n",
    "    # Otherwise, pop the top element and recursively insert the element\n",
    "    top = stack.pop()\n",
    "    insert_sorted(stack, element)\n",
    "    # Push the popped element back to the stack\n",
    "    stack.append(top)\n",
    "\n",
    "# Example Usage:\n",
    "stack = [3, 1, 4, 2, 5]\n",
    "sort_stack(stack)\n",
    "print(stack)  # Output will be [5, 4, 3, 2, 1]\n"
   ]
  },
  {
   "cell_type": "code",
   "execution_count": null,
   "id": "4f9f29f6-896e-44b6-b147-ea3a5b6ec35f",
   "metadata": {},
   "outputs": [],
   "source": []
  }
 ],
 "metadata": {
  "kernelspec": {
   "display_name": "Python [conda env:base] *",
   "language": "python",
   "name": "conda-base-py"
  },
  "language_info": {
   "codemirror_mode": {
    "name": "ipython",
    "version": 3
   },
   "file_extension": ".py",
   "mimetype": "text/x-python",
   "name": "python",
   "nbconvert_exporter": "python",
   "pygments_lexer": "ipython3",
   "version": "3.12.7"
  }
 },
 "nbformat": 4,
 "nbformat_minor": 5
}
