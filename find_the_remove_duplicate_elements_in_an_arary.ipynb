{
  "nbformat": 4,
  "nbformat_minor": 0,
  "metadata": {
    "colab": {
      "provenance": []
    },
    "kernelspec": {
      "name": "python3",
      "display_name": "Python 3"
    },
    "language_info": {
      "name": "python"
    }
  },
  "cells": [
    {
      "source": [
        "#find the remove duplicate elements in an arary.\n",
        "import numpy as np\n",
        "x=np.array([10,20,30,40,50]) # Changed np.arra to np.array\n",
        "def r_dup(x):\n",
        "  new_arr=[]\n",
        "  for i in x:\n",
        "    if i not in new_arr:\n",
        "      new_arr.append(i)\n",
        "#find the remove duplicate elements in an arary.\n",
        "import numpy as np\n",
        "x=np.array([10,20,30,40,50])\n",
        "def r_dup(x):\n",
        "  new_arr=[]\n",
        "  for i in x:\n",
        "    if i not in new_arr:\n",
        "      new_arr.append(i)\n",
        "  return np.array(new_arr)\n",
        "\n",
        "result = r_dup(x)\n",
        "type(result)"
      ],
      "cell_type": "code",
      "metadata": {
        "colab": {
          "base_uri": "https://localhost:8080/"
        },
        "id": "JNBQTOIpg7lG",
        "outputId": "829ace63-0e61-4314-d5bd-0c59209b577f"
      },
      "execution_count": 5,
      "outputs": [
        {
          "output_type": "execute_result",
          "data": {
            "text/plain": [
              "numpy.ndarray"
            ]
          },
          "metadata": {},
          "execution_count": 5
        }
      ]
    },
    {
      "cell_type": "code",
      "source": [
        "import numpy as np\n",
        "\n",
        "x= np.array([10,20,30,40,50,])\n",
        "def r_dup(x):\n",
        "   new_arr=[]\n",
        "   for i in x:\n",
        "     if i not in new_arr:\n",
        "        new_arr.append(i)\n",
        "     return np.array(new_arr)\n",
        "\n",
        "result=r_dup(x)\n",
        "type(result)"
      ],
      "metadata": {
        "colab": {
          "base_uri": "https://localhost:8080/"
        },
        "id": "jXMN4b4ehFsE",
        "outputId": "24c5d2a9-035b-4ab6-c144-0967bcf9365e"
      },
      "execution_count": 6,
      "outputs": [
        {
          "output_type": "execute_result",
          "data": {
            "text/plain": [
              "numpy.ndarray"
            ]
          },
          "metadata": {},
          "execution_count": 6
        }
      ]
    },
    {
      "cell_type": "code",
      "source": [
        "import numpy as np\n",
        "\n",
        "x= np.array([10,20,30,40,50,])\n",
        "def r_dup(x):\n",
        "  res=list(set(x))                 #type conversion\n",
        "  return np.array(res)\n",
        "\n",
        "result=r_dup(x)\n",
        "type(result)\n",
        "print(result)"
      ],
      "metadata": {
        "colab": {
          "base_uri": "https://localhost:8080/"
        },
        "id": "s387WPSphQY2",
        "outputId": "7f92c822-2ba2-48bc-bd99-99b46caaedb4"
      },
      "execution_count": 8,
      "outputs": [
        {
          "output_type": "stream",
          "name": "stdout",
          "text": [
            "[40 10 50 20 30]\n"
          ]
        }
      ]
    },
    {
      "cell_type": "code",
      "source": [],
      "metadata": {
        "id": "FQJ58GHYhQNx"
      },
      "execution_count": null,
      "outputs": []
    },
    {
      "cell_type": "code",
      "source": [],
      "metadata": {
        "id": "3H0IZZbzhQDh"
      },
      "execution_count": null,
      "outputs": []
    }
  ]
}