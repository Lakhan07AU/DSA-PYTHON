{
 "cells": [
  {
   "cell_type": "code",
   "execution_count": 2,
   "id": "aadcaf07-66c3-4426-a6e3-e5a1187d94d9",
   "metadata": {},
   "outputs": [
    {
     "ename": "IndentationError",
     "evalue": "unindent does not match any outer indentation level (<string>, line 14)",
     "output_type": "error",
     "traceback": [
      "\u001b[1;36m  File \u001b[1;32m<string>:14\u001b[1;36m\u001b[0m\n\u001b[1;33m    last.next = new_node\u001b[0m\n\u001b[1;37m                        ^\u001b[0m\n\u001b[1;31mIndentationError\u001b[0m\u001b[1;31m:\u001b[0m unindent does not match any outer indentation level\n"
     ]
    }
   ],
   "source": [
    "class Nodes:\n",
    "    def_init_(self,data):\n",
    "    self.data:\n",
    "    self.next:\n",
    "\n",
    "class linkedlist:\n",
    "    def_init_(self):\n",
    "        self.head== None\n",
    "    def append(self,data):\n",
    "        new_node =Node(data)\n",
    "        if not self.dead:\n",
    "            self.head = new_node\n",
    "            return\n",
    "         last.next = new_node\n",
    "     def print_list(self):\n",
    "         temp= self.head\n",
    "         while temp:\n",
    "             print(temp.data,end=\"--> \")\n",
    "             temp = temp.next\n",
    "         print(\"None\")\n",
    "            "
   ]
  },
  {
   "cell_type": "code",
   "execution_count": 6,
   "id": "986ad23d-98f8-4605-9f8b-2c9a54e54d9d",
   "metadata": {},
   "outputs": [
    {
     "name": "stdout",
     "output_type": "stream",
     "text": [
      "Linked List:\n",
      "10 --> 20 --> 30 --> 40 --> 90 --> None\n"
     ]
    }
   ],
   "source": [
    "class Node:\n",
    "    def __init__(self, data):\n",
    "        self.data = data  # Store the data in the node\n",
    "        self.next = None  # Initialize the next pointer to None\n",
    "\n",
    "class LinkedList:\n",
    "    def __init__(self):\n",
    "        self.head = None  # Initialize the list with no nodes\n",
    "\n",
    "    # Method to append data at the end of the linked list\n",
    "    def append(self, data):\n",
    "        new_node = Node(data)  # Create a new node with the provided data\n",
    "        \n",
    "        # If the list is empty, make new node the head\n",
    "        if not self.head:\n",
    "            self.head = new_node\n",
    "            return\n",
    "        \n",
    "        # Traverse the list to the last node\n",
    "        last = self.head\n",
    "        while last.next:\n",
    "            last = last.next\n",
    "        \n",
    "        # Append the new node at the end of the list\n",
    "        last.next = new_node\n",
    "\n",
    "    # Method to print all elements of the list\n",
    "    def print_list(self):\n",
    "        temp = self.head\n",
    "        while temp:\n",
    "            print(temp.data, end=\" --> \")\n",
    "            temp = temp.next\n",
    "        print(\"None\")  # End of list\n",
    "\n",
    "# Example usage\n",
    "linked_list = LinkedList()\n",
    "\n",
    "# Append data to the linked list\n",
    "linked_list.append(10)\n",
    "linked_list.append(20)\n",
    "linked_list.append(30)\n",
    "linked_list.append(40)\n",
    "linked_list.append(90)\n",
    "\n",
    "# Print the linked list\n",
    "print(\"Linked List:\")\n",
    "linked_list.print_list()\n"
   ]
  },
  {
   "cell_type": "code",
   "execution_count": null,
   "id": "cc8d14c3-3847-44fa-8bd2-1cdcfe62fd5c",
   "metadata": {},
   "outputs": [],
   "source": []
  }
 ],
 "metadata": {
  "kernelspec": {
   "display_name": "Python [conda env:base] *",
   "language": "python",
   "name": "conda-base-py"
  },
  "language_info": {
   "codemirror_mode": {
    "name": "ipython",
    "version": 3
   },
   "file_extension": ".py",
   "mimetype": "text/x-python",
   "name": "python",
   "nbconvert_exporter": "python",
   "pygments_lexer": "ipython3",
   "version": "3.12.7"
  }
 },
 "nbformat": 4,
 "nbformat_minor": 5
}
