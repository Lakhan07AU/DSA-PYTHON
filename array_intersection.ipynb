{
  "nbformat": 4,
  "nbformat_minor": 0,
  "metadata": {
    "colab": {
      "provenance": []
    },
    "kernelspec": {
      "name": "python3",
      "display_name": "Python 3"
    },
    "language_info": {
      "name": "python"
    }
  },
  "cells": [
    {
      "cell_type": "code",
      "execution_count": 5,
      "metadata": {
        "colab": {
          "base_uri": "https://localhost:8080/"
        },
        "id": "gOHU-ou_f8UT",
        "outputId": "f7cc2ac3-0796-43b2-edaf-e58964d23b0b"
      },
      "outputs": [
        {
          "output_type": "stream",
          "name": "stdout",
          "text": [
            "[1, 2, 2, 4, 4]\n"
          ]
        }
      ],
      "source": [
        "#array intersection\n",
        "import numpy as np\n",
        "#array intersection\n",
        "import numpy as np\n",
        "a = np.array([1,2,3,2,3,4,3,4,5,6])\n",
        "b = np.array([7,2,10,2,7,4,9,4,9,1,8])\n",
        "def arr_common(a,b):\n",
        "  common=[]\n",
        "  for i in a:\n",
        "    if i in b:\n",
        "      common.append(i)\n",
        "  return common\n",
        "print(arr_common(a,b))\n",
        ""
      ]
    }
  ]
}