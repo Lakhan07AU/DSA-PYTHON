{
 "cells": [
  {
   "cell_type": "code",
   "execution_count": 1,
   "id": "b07263b8-0c15-4e1b-b047-6b9830c66efb",
   "metadata": {},
   "outputs": [
    {
     "name": "stdout",
     "output_type": "stream",
     "text": [
      "1\n"
     ]
    }
   ],
   "source": [
    "def find_min(stack):\n",
    "    if len(stack) == 0:\n",
    "        return None  # Stack is empty\n",
    "    \n",
    "    min_stack = []\n",
    "    \n",
    "    # Initialize the min_stack with the first element\n",
    "    min_stack.append(stack[0])\n",
    "    \n",
    "    # Iterate through the stack and find the minimum\n",
    "    for item in stack:\n",
    "        min_stack.append(min(item, min_stack[-1]))\n",
    "    \n",
    "    return min_stack[-1]\n",
    "\n",
    "# Example Usage:\n",
    "stack = [3, 1, 4, 2, 5]\n",
    "min_element = find_min(stack)\n",
    "print(min_element)  # Output will be 1\n"
   ]
  },
  {
   "cell_type": "code",
   "execution_count": null,
   "id": "a3865c6b-a042-4999-be99-a332b7d6153b",
   "metadata": {},
   "outputs": [],
   "source": []
  }
 ],
 "metadata": {
  "kernelspec": {
   "display_name": "Python [conda env:base] *",
   "language": "python",
   "name": "conda-base-py"
  },
  "language_info": {
   "codemirror_mode": {
    "name": "ipython",
    "version": 3
   },
   "file_extension": ".py",
   "mimetype": "text/x-python",
   "name": "python",
   "nbconvert_exporter": "python",
   "pygments_lexer": "ipython3",
   "version": "3.12.7"
  }
 },
 "nbformat": 4,
 "nbformat_minor": 5
}
