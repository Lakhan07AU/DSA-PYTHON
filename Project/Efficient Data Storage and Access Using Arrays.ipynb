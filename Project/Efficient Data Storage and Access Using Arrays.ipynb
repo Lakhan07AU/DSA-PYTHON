{
 "cells": [
  {
   "cell_type": "code",
   "execution_count": 1,
   "id": "4f466a1e-8db3-4746-95c2-d1725181e5cc",
   "metadata": {},
   "outputs": [
    {
     "name": "stdout",
     "output_type": "stream",
     "text": [
      "Now Playing: Perfect by Ed Sheeran\n",
      "Now Playing: Believer by Imagine Dragons\n",
      "Now Playing: Believer by Imagine Dragons\n",
      "Believer by Imagine Dragons - 204s - Played: 2 times\n",
      "Perfect by Ed Sheeran - 263s - Played: 1 times\n",
      "Blinding Lights by The Weeknd - 200s - Played: 0 times\n"
     ]
    }
   ],
   "source": [
    "def add_song(title, artist, duration):\n",
    "    songs.append([title, artist, duration, 0])\n",
    "\n",
    "def delete_song(title):\n",
    "    for i in range(len(songs)):\n",
    "        if songs[i][0] == title:\n",
    "            songs.pop(i)\n",
    "            break\n",
    "def play_song(title):\n",
    "    for song in songs:\n",
    "        if song[0] == title:\n",
    "            song[3] += 1\n",
    "            print(f\"Now Playing: {song[0]} by {song[1]}\")\n",
    "\n",
    "def display_playlist():\n",
    "    for song in songs:\n",
    "        print(f\"{song[0]} by {song[1]} - {song[2]}s - Played: {song[3]} times\")\n",
    "\n",
    "def merge_sort_by_popularity(song_list):\n",
    "    if len(song_list) <= 1:\n",
    "        return song_list\n",
    "    mid = len(song_list) // 2\n",
    "    left = merge_sort_by_popularity(song_list[:mid])\n",
    "    right = merge_sort_by_popularity(song_list[mid:])\n",
    "    return merge(left, right)\n",
    "\n",
    "def merge(left, right):\n",
    "    sorted_list = []\n",
    "    while left and right:\n",
    "        if left[0][3] > right[0][3]:\n",
    "            sorted_list.append(left.pop(0))\n",
    "        else:\n",
    "            sorted_list.append(right.pop(0))\n",
    "    sorted_list.extend(left + right)\n",
    "    return sorted_list\n",
    "\n",
    "def bubble_sort_by_title(song_list):\n",
    "    n = len(song_list)\n",
    "    for i in range(n):\n",
    "        for j in range(0, n-i-1):\n",
    "            if song_list[j][0] > song_list[j+1][0]:\n",
    "                song_list[j], song_list[j+1] = song_list[j+1], song_list[j]\n",
    "\n",
    "songs = []\n",
    "add_song(\"Believer\", \"Imagine Dragons\", 204)\n",
    "add_song(\"Perfect\", \"Ed Sheeran\", 263)\n",
    "add_song(\"Blinding Lights\", \"The Weeknd\", 200)\n",
    "\n",
    "play_song(\"Perfect\")\n",
    "play_song(\"Believer\")\n",
    "play_song(\"Believer\")\n",
    "\n",
    "display_playlist()\n",
    "\n"
   ]
  },
  {
   "cell_type": "code",
   "execution_count": null,
   "id": "51754616-a4e8-4d10-bfc1-dee4388404c5",
   "metadata": {},
   "outputs": [],
   "source": []
  }
 ],
 "metadata": {
  "kernelspec": {
   "display_name": "Python [conda env:base] *",
   "language": "python",
   "name": "conda-base-py"
  },
  "language_info": {
   "codemirror_mode": {
    "name": "ipython",
    "version": 3
   },
   "file_extension": ".py",
   "mimetype": "text/x-python",
   "name": "python",
   "nbconvert_exporter": "python",
   "pygments_lexer": "ipython3",
   "version": "3.12.7"
  }
 },
 "nbformat": 4,
 "nbformat_minor": 5
}
