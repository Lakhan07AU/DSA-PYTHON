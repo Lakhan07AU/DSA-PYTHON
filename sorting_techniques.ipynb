{
 "cells": [
  {
   "cell_type": "code",
   "execution_count": 10,
   "id": "eda2e44d-e019-4ef4-a6ae-c673ff60b49c",
   "metadata": {},
   "outputs": [
    {
     "name": "stdin",
     "output_type": "stream",
     "text": [
      "Enter number of elements:  5\n",
      "Enter element:  80\n",
      "Enter element:  7\n",
      "Enter element:  50\n",
      "Enter element:  40\n",
      "Enter element:  95\n"
     ]
    },
    {
     "name": "stdout",
     "output_type": "stream",
     "text": [
      "The sorted elements are:\n",
      "7 40 50 80 95 "
     ]
    }
   ],
   "source": [
    "def selection_sort(lst):\n",
    "    size = len(lst)\n",
    "    for i in range(size - 1):\n",
    "        min_val = lst[i]  # Store the minimum value\n",
    "        posn = i  # Track the position of the minimum value\n",
    "        for j in range(i + 1, size):  # Compare to find the new minimum\n",
    "            if lst[j] < min_val:\n",
    "                min_val = lst[j]\n",
    "                posn = j\n",
    "        if i != posn:  # If the minimum value is not at the current position\n",
    "            lst[i], lst[posn] = lst[posn], lst[i]  # Swap\n",
    "\n",
    "# Input number of elements and elements from the user\n",
    "n = int(input(\"Enter number of elements: \"))\n",
    "lst = []\n",
    "for i in range(n):\n",
    "    num = int(input(\"Enter element: \"))\n",
    "    lst.append(num)\n",
    "\n",
    "selection_sort(lst)\n",
    "\n",
    "# Print sorted elements\n",
    "print(\"The sorted elements are:\")\n",
    "for i in range(n):\n",
    "    print(lst[i], end=\" \")\n"
   ]
  },
  {
   "cell_type": "code",
   "execution_count": 12,
   "id": "d062f5ea-92f7-4781-b6ae-dd88b6f089ad",
   "metadata": {},
   "outputs": [
    {
     "name": "stdin",
     "output_type": "stream",
     "text": [
      "Enter number of elements:  6\n",
      "Enter element 1:  12\n",
      "Enter element 2:  232\n",
      "Enter element 3:  1111\n",
      "Enter element 4:  1\n",
      "Enter element 5:  2\n",
      "Enter element 6:  3\n"
     ]
    },
    {
     "name": "stdout",
     "output_type": "stream",
     "text": [
      "The sorted elements are:\n",
      "1 2 3 12 232 1111 "
     ]
    }
   ],
   "source": [
    "def insertion_sort(lst):\n",
    "    size = len(lst)\n",
    "    for i in range(1, size):\n",
    "        temp = lst[i]  # Store the current element\n",
    "        j = i - 1\n",
    "        # Move elements of lst[0..i-1] that are greater than temp\n",
    "        while j >= 0 and lst[j] > temp:\n",
    "            lst[j + 1] = lst[j]\n",
    "            j = j - 1\n",
    "        # Place temp (current element) in the correct position\n",
    "        lst[j + 1] = temp\n",
    "\n",
    "# Input: Number of elements and the elements themselves\n",
    "n = int(input(\"Enter number of elements: \"))\n",
    "lst = []\n",
    "\n",
    "for i in range(n):\n",
    "    num = int(input(f\"Enter element {i + 1}: \"))\n",
    "    lst.append(num)\n",
    "    \n",
    "\n",
    "# Call the insertion_sort function to sort the list\n",
    "insertion_sort(lst)\n",
    "\n",
    "# Output the sorted list\n",
    "print(\"The sorted elements are:\")\n",
    "for i in range(n):\n",
    "    print(lst[i], end=\" \")\n"
   ]
  },
  {
   "cell_type": "code",
   "execution_count": 14,
   "id": "560a0991-d68a-44b0-9f93-bd95f9302c85",
   "metadata": {},
   "outputs": [
    {
     "name": "stdin",
     "output_type": "stream",
     "text": [
      "Enter number of elements:  5\n",
      "Enter element 1:  76\n",
      "Enter element 2:  765\n",
      "Enter element 3:  87\n",
      "Enter element 4:  66\n",
      "Enter element 5:  76\n"
     ]
    },
    {
     "name": "stdout",
     "output_type": "stream",
     "text": [
      "The sorted elements are:\n",
      "66 76 76 87 765 "
     ]
    }
   ],
   "source": [
    "def bubble_sort(lst):\n",
    "    size = len(lst)\n",
    "    for i in range(size - 1):  # Outer loop for passes\n",
    "        for j in range(size - 1 - i):  # Inner loop for comparisons\n",
    "            if lst[j] > lst[j + 1]:  # Swap if elements are in the wrong order\n",
    "                temp = lst[j]\n",
    "                lst[j] = lst[j + 1]\n",
    "                lst[j + 1] = temp\n",
    "\n",
    "# Input: Number of elements and the elements themselves\n",
    "n = int(input(\"Enter number of elements: \"))\n",
    "lst = []\n",
    "\n",
    "for i in range(n):\n",
    "    num = int(input(f\"Enter element {i + 1}: \"))\n",
    "    lst.append(num)\n",
    "\n",
    "# Call the bubble_sort function to sort the list\n",
    "bubble_sort(lst)\n",
    "\n",
    "# Output the sorted list\n",
    "print(\"The sorted elements are:\")\n",
    "for i in range(n):\n",
    "    print(lst[i], end=\" \")\n"
   ]
  },
  {
   "cell_type": "code",
   "execution_count": null,
   "id": "f6980990-bd89-4a26-b450-6fc5902eaafa",
   "metadata": {},
   "outputs": [],
   "source": []
  }
 ],
 "metadata": {
  "kernelspec": {
   "display_name": "Python [conda env:base] *",
   "language": "python",
   "name": "conda-base-py"
  },
  "language_info": {
   "codemirror_mode": {
    "name": "ipython",
    "version": 3
   },
   "file_extension": ".py",
   "mimetype": "text/x-python",
   "name": "python",
   "nbconvert_exporter": "python",
   "pygments_lexer": "ipython3",
   "version": "3.12.7"
  }
 },
 "nbformat": 4,
 "nbformat_minor": 5
}
