{
  "nbformat": 4,
  "nbformat_minor": 0,
  "metadata": {
    "colab": {
      "provenance": []
    },
    "kernelspec": {
      "name": "python3",
      "display_name": "Python 3"
    },
    "language_info": {
      "name": "python"
    }
  },
  "cells": [
    {
      "cell_type": "code",
      "execution_count": 1,
      "metadata": {
        "colab": {
          "base_uri": "https://localhost:8080/"
        },
        "id": "hhAonZkUeFbz",
        "outputId": "97459ac0-f876-41b1-cb6e-b563a8237ea5"
      },
      "outputs": [
        {
          "output_type": "stream",
          "name": "stdout",
          "text": [
            "150.0\n"
          ]
        }
      ],
      "source": [
        "#FIND THE SUM AND AVERAGE OF AN ARRAY ELEMENT\n",
        "import numpy as np\n",
        "x=np.array([10,20,30,40,50])\n",
        "def avg(x):\n",
        "  l=len(x)\n",
        "  add_all=sum(x)\n",
        "  average=add_all/1\n",
        "  return average\n",
        "result=avg(x)\n",
        "print(result)\n"
      ]
    }
  ]
}