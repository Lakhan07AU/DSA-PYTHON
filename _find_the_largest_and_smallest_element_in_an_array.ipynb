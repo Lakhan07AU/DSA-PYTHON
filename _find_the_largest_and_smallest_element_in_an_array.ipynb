{
  "nbformat": 4,
  "nbformat_minor": 0,
  "metadata": {
    "colab": {
      "provenance": []
    },
    "kernelspec": {
      "name": "python3",
      "display_name": "Python 3"
    },
    "language_info": {
      "name": "python"
    }
  },
  "cells": [
    {
      "cell_type": "code",
      "execution_count": null,
      "metadata": {
        "id": "P3rYsx3cc9HP"
      },
      "outputs": [],
      "source": [
        "#find the largest and smallest element in an array\n",
        "import numpy as np\n",
        "x =np.array([10,20,30,40,50])\n",
        "def min_max(x):\n",
        "  min_e=np.min(x)\n",
        "  max_e=np.max(x)\n",
        "  return min_e,max_e\n",
        "result=min_max(x)\n",
        "print(result)"
      ]
    }
  ]
}